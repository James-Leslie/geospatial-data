{
 "cells": [
  {
   "cell_type": "code",
   "execution_count": 1,
   "metadata": {},
   "outputs": [],
   "source": [
    "import json\n",
    "import requests\n",
    "import pandas as pd\n",
    "import matplotlib.pyplot as plt\n",
    "import seaborn as sns\n",
    "import geopandas as gpd\n",
    "import folium\n",
    "from folium.plugins import MarkerCluster, FastMarkerCluster"
   ]
  },
  {
   "cell_type": "markdown",
   "metadata": {},
   "source": [
    "# Folium interactive map\n",
    "  - [Multi-layer map tutorial (video)](https://www.youtube.com/watch?v=Ftczp3bx1uw)\n",
    "  - [Multi-layer map tutorial (video)](https://codeburst.io/how-i-understood-displaying-interactive-maps-using-python-leaflet-js-and-folium-bd9b98c26e0e)\n",
    "  - [Multi-layer map example (repo)](https://github.com/joeljogy/Display-interactive-leaflet-maps/blob/master/map.py)"
   ]
  },
  {
   "cell_type": "code",
   "execution_count": 2,
   "metadata": {},
   "outputs": [],
   "source": [
    "# Jupyter struggles when maps have lots of elements on them\n",
    "# Use the function below to deal with this issue\n",
    "from IPython.display import IFrame\n",
    "\n",
    "def embed_map(m, width='100%', height='750px', filepath='maps/', filename='map.html'):\n",
    "\n",
    "    m.save(filepath+filename)\n",
    "    return IFrame(filepath+filename, width=width, height=height)"
   ]
  },
  {
   "cell_type": "markdown",
   "metadata": {},
   "source": [
    "## Load insurance policy data"
   ]
  },
  {
   "cell_type": "code",
   "execution_count": 3,
   "metadata": {},
   "outputs": [
    {
     "data": {
      "text/html": [
       "<div>\n",
       "<style scoped>\n",
       "    .dataframe tbody tr th:only-of-type {\n",
       "        vertical-align: middle;\n",
       "    }\n",
       "\n",
       "    .dataframe tbody tr th {\n",
       "        vertical-align: top;\n",
       "    }\n",
       "\n",
       "    .dataframe thead th {\n",
       "        text-align: right;\n",
       "    }\n",
       "</style>\n",
       "<table border=\"1\" class=\"dataframe\">\n",
       "  <thead>\n",
       "    <tr style=\"text-align: right;\">\n",
       "      <th></th>\n",
       "      <th>SampleNo</th>\n",
       "      <th>DriverGender</th>\n",
       "      <th>DriverAge</th>\n",
       "      <th>YearsLicensed</th>\n",
       "      <th>Licensed Age</th>\n",
       "      <th>WindscreenExtension</th>\n",
       "      <th>RentalCar</th>\n",
       "      <th>Alarm</th>\n",
       "      <th>GarageType</th>\n",
       "      <th>FinanceType</th>\n",
       "      <th>...</th>\n",
       "      <th>Start Date</th>\n",
       "      <th>Immobliser</th>\n",
       "      <th>HasPassengerFare</th>\n",
       "      <th>HasTradeUse</th>\n",
       "      <th>HCusinessUseType</th>\n",
       "      <th>IsACustomer</th>\n",
       "      <th>Vehicle Year</th>\n",
       "      <th>Make</th>\n",
       "      <th>Model</th>\n",
       "      <th>geometry</th>\n",
       "    </tr>\n",
       "  </thead>\n",
       "  <tbody>\n",
       "    <tr>\n",
       "      <th>0</th>\n",
       "      <td>1</td>\n",
       "      <td>Female</td>\n",
       "      <td>49</td>\n",
       "      <td>31</td>\n",
       "      <td>18</td>\n",
       "      <td>No</td>\n",
       "      <td>No</td>\n",
       "      <td>No</td>\n",
       "      <td>Carport</td>\n",
       "      <td>NO</td>\n",
       "      <td>...</td>\n",
       "      <td>TODAY</td>\n",
       "      <td>No</td>\n",
       "      <td>No</td>\n",
       "      <td>No</td>\n",
       "      <td>No</td>\n",
       "      <td>No</td>\n",
       "      <td>2019</td>\n",
       "      <td>Foton</td>\n",
       "      <td>Sauvana</td>\n",
       "      <td>POINT (175.02788 -41.14489)</td>\n",
       "    </tr>\n",
       "    <tr>\n",
       "      <th>1</th>\n",
       "      <td>2</td>\n",
       "      <td>Male</td>\n",
       "      <td>28</td>\n",
       "      <td>9</td>\n",
       "      <td>19</td>\n",
       "      <td>No</td>\n",
       "      <td>No</td>\n",
       "      <td>No</td>\n",
       "      <td>Garage</td>\n",
       "      <td>NO</td>\n",
       "      <td>...</td>\n",
       "      <td>TODAY</td>\n",
       "      <td>No</td>\n",
       "      <td>No</td>\n",
       "      <td>No</td>\n",
       "      <td>No</td>\n",
       "      <td>No</td>\n",
       "      <td>2008</td>\n",
       "      <td>Fiat</td>\n",
       "      <td>Ducato</td>\n",
       "      <td>POINT (175.01538 -41.14356)</td>\n",
       "    </tr>\n",
       "    <tr>\n",
       "      <th>2</th>\n",
       "      <td>3</td>\n",
       "      <td>Male</td>\n",
       "      <td>27</td>\n",
       "      <td>9</td>\n",
       "      <td>18</td>\n",
       "      <td>No</td>\n",
       "      <td>No</td>\n",
       "      <td>No</td>\n",
       "      <td>Carport</td>\n",
       "      <td>NO</td>\n",
       "      <td>...</td>\n",
       "      <td>TODAY</td>\n",
       "      <td>No</td>\n",
       "      <td>No</td>\n",
       "      <td>No</td>\n",
       "      <td>No</td>\n",
       "      <td>No</td>\n",
       "      <td>2018</td>\n",
       "      <td>Holden</td>\n",
       "      <td>Astra</td>\n",
       "      <td>POINT (175.14368 -41.09620)</td>\n",
       "    </tr>\n",
       "    <tr>\n",
       "      <th>3</th>\n",
       "      <td>4</td>\n",
       "      <td>Male</td>\n",
       "      <td>52</td>\n",
       "      <td>34</td>\n",
       "      <td>18</td>\n",
       "      <td>No</td>\n",
       "      <td>No</td>\n",
       "      <td>No</td>\n",
       "      <td>Driveway</td>\n",
       "      <td>NO</td>\n",
       "      <td>...</td>\n",
       "      <td>TOMORROW</td>\n",
       "      <td>No</td>\n",
       "      <td>No</td>\n",
       "      <td>No</td>\n",
       "      <td>No</td>\n",
       "      <td>No</td>\n",
       "      <td>2010</td>\n",
       "      <td>Suzuki</td>\n",
       "      <td>Grand Vitara</td>\n",
       "      <td>POINT (175.10925 -41.09523)</td>\n",
       "    </tr>\n",
       "    <tr>\n",
       "      <th>4</th>\n",
       "      <td>5</td>\n",
       "      <td>Male</td>\n",
       "      <td>31</td>\n",
       "      <td>12</td>\n",
       "      <td>19</td>\n",
       "      <td>No</td>\n",
       "      <td>No</td>\n",
       "      <td>Yes</td>\n",
       "      <td>Driveway</td>\n",
       "      <td>NO</td>\n",
       "      <td>...</td>\n",
       "      <td>TODAY</td>\n",
       "      <td>No</td>\n",
       "      <td>No</td>\n",
       "      <td>No</td>\n",
       "      <td>No</td>\n",
       "      <td>No</td>\n",
       "      <td>2002</td>\n",
       "      <td>Ford</td>\n",
       "      <td>Falcon</td>\n",
       "      <td>POINT (175.07158 -41.11921)</td>\n",
       "    </tr>\n",
       "  </tbody>\n",
       "</table>\n",
       "<p>5 rows × 35 columns</p>\n",
       "</div>"
      ],
      "text/plain": [
       "   SampleNo DriverGender  DriverAge  YearsLicensed  Licensed Age  \\\n",
       "0         1       Female         49             31            18   \n",
       "1         2         Male         28              9            19   \n",
       "2         3         Male         27              9            18   \n",
       "3         4         Male         52             34            18   \n",
       "4         5         Male         31             12            19   \n",
       "\n",
       "  WindscreenExtension RentalCar Alarm GarageType FinanceType  ...  Start Date  \\\n",
       "0                  No        No    No    Carport          NO  ...       TODAY   \n",
       "1                  No        No    No     Garage          NO  ...       TODAY   \n",
       "2                  No        No    No    Carport          NO  ...       TODAY   \n",
       "3                  No        No    No   Driveway          NO  ...    TOMORROW   \n",
       "4                  No        No   Yes   Driveway          NO  ...       TODAY   \n",
       "\n",
       "  Immobliser HasPassengerFare HasTradeUse  HCusinessUseType  IsACustomer  \\\n",
       "0         No               No          No                No           No   \n",
       "1         No               No          No                No           No   \n",
       "2         No               No          No                No           No   \n",
       "3         No               No          No                No           No   \n",
       "4         No               No          No                No           No   \n",
       "\n",
       "   Vehicle Year    Make         Model                     geometry  \n",
       "0          2019   Foton       Sauvana  POINT (175.02788 -41.14489)  \n",
       "1          2008    Fiat        Ducato  POINT (175.01538 -41.14356)  \n",
       "2          2018  Holden         Astra  POINT (175.14368 -41.09620)  \n",
       "3          2010  Suzuki  Grand Vitara  POINT (175.10925 -41.09523)  \n",
       "4          2002    Ford        Falcon  POINT (175.07158 -41.11921)  \n",
       "\n",
       "[5 rows x 35 columns]"
      ]
     },
     "execution_count": 3,
     "metadata": {},
     "output_type": "execute_result"
    }
   ],
   "source": [
    "policies = gpd.read_file('data/processed/policies.geojson')\n",
    "\n",
    "policies.head()"
   ]
  },
  {
   "cell_type": "code",
   "execution_count": 4,
   "metadata": {},
   "outputs": [
    {
     "data": {
      "text/plain": [
       "{'init': 'epsg:4326'}"
      ]
     },
     "execution_count": 4,
     "metadata": {},
     "output_type": "execute_result"
    }
   ],
   "source": [
    "# check that CRS is correct\n",
    "policies.crs"
   ]
  },
  {
   "cell_type": "code",
   "execution_count": 5,
   "metadata": {},
   "outputs": [
    {
     "data": {
      "text/plain": [
       "(3000, 35)"
      ]
     },
     "execution_count": 5,
     "metadata": {},
     "output_type": "execute_result"
    }
   ],
   "source": [
    "policies.shape"
   ]
  },
  {
   "cell_type": "markdown",
   "metadata": {},
   "source": [
    "## 1. Marker Cluster\n",
    "The `policies` dataframe contains 3000 individual policies, each with a lat/long coordinate pair. Plotting all 3000 would create a very cluttered map, so a MarkerCluster layer can be used to group policies when zoomed out.\n",
    "\n",
    "Individual Marker objects can be be added to the MarkerCluster. Each Marker can contain attributes for popup and tooltip text, so that the user is presented with additional information when they hover or click."
   ]
  },
  {
   "cell_type": "code",
   "execution_count": 6,
   "metadata": {},
   "outputs": [
    {
     "data": {
      "text/html": [
       "\n",
       "        <iframe\n",
       "            width=\"75%\"\n",
       "            height=\"500px\"\n",
       "            src=\"maps/marker-cluster.html\"\n",
       "            frameborder=\"0\"\n",
       "            allowfullscreen\n",
       "        ></iframe>\n",
       "        "
      ],
      "text/plain": [
       "<IPython.lib.display.IFrame at 0x2e400fe4ac8>"
      ]
     },
     "execution_count": 6,
     "metadata": {},
     "output_type": "execute_result"
    }
   ],
   "source": [
    "# create basemap, centred on Auckland\n",
    "m = folium.Map(\n",
    "    location=[-36.848461, 174.763336],\n",
    "    tiles='cartodbpositron',\n",
    "    zoom_start=12\n",
    ")\n",
    "\n",
    "# add cluster marker to map\n",
    "marker = MarkerCluster(name='Policies').add_to(m)\n",
    "\n",
    "# add all policies to cluster marker\n",
    "for idx, row in policies.iterrows():\n",
    "    \n",
    "    popup='Years Licensed:<br>' + str(row['YearsLicensed']) + '<br>Sum Insured:<br>' + str(row['Vehicle Sum Insured'])\n",
    "    \n",
    "    folium.Marker(\n",
    "        location=[row.geometry.y, row.geometry.x],\n",
    "        popup=popup,\n",
    "        tooltip=row.SampleNo\n",
    "    ).add_to(marker)\n",
    "    \n",
    "# allow this layer to be turned on and off\n",
    "folium.LayerControl().add_to(m)\n",
    "\n",
    "# show map\n",
    "embed_map(m, width='75%', height='500px', filename='marker-cluster.html')"
   ]
  },
  {
   "cell_type": "markdown",
   "metadata": {},
   "source": [
    "An alternative to the MarkerCluster is the FastMarkerCluster which can render much quicker, especially when working with a large number of points.\n",
    "\n",
    "However, to add tooltips and popups will require custom JavaScript callbacks to be written. Find an example of this [here](https://stackoverflow.com/questions/50661316/adding-text-to-folium-fastmarkercluster-markers)."
   ]
  },
  {
   "cell_type": "code",
   "execution_count": 7,
   "metadata": {},
   "outputs": [
    {
     "data": {
      "text/html": [
       "\n",
       "        <iframe\n",
       "            width=\"75%\"\n",
       "            height=\"500px\"\n",
       "            src=\"maps/marker-cluster.html\"\n",
       "            frameborder=\"0\"\n",
       "            allowfullscreen\n",
       "        ></iframe>\n",
       "        "
      ],
      "text/plain": [
       "<IPython.lib.display.IFrame at 0x2e405299fc8>"
      ]
     },
     "execution_count": 7,
     "metadata": {},
     "output_type": "execute_result"
    }
   ],
   "source": [
    "# create basemap, centred on Auckland\n",
    "m = folium.Map(\n",
    "    location=[-36.848461, 174.763336],\n",
    "    tiles='cartodbpositron',\n",
    "    zoom_start=12\n",
    ")\n",
    "\n",
    "# zip lat/long pairs into one list\n",
    "pairs = list(zip(policies['geometry'].y.values.tolist(), policies['geometry'].x.values.tolist()))\n",
    "\n",
    "# add cluster marker to map\n",
    "marker = FastMarkerCluster(data=pairs, name='Policies').add_to(m)\n",
    "\n",
    "# allow this layer to be turned on and off\n",
    "folium.LayerControl().add_to(m)\n",
    "\n",
    "# show map\n",
    "embed_map(m, width='75%', height='500px', filename='marker-cluster.html')"
   ]
  },
  {
   "cell_type": "markdown",
   "metadata": {},
   "source": [
    "## 2. GeoJSON overlays\n",
    "  - [Folium quickstart guide](https://python-visualization.github.io/folium/quickstart.html#GeoJSON/TopoJSON-Overlays)\n",
    "  \n",
    "Polygon features can also be added to maps. The code below loads adds the ward boundaries directly from file to the map."
   ]
  },
  {
   "cell_type": "code",
   "execution_count": 8,
   "metadata": {},
   "outputs": [
    {
     "data": {
      "text/html": [
       "\n",
       "        <iframe\n",
       "            width=\"75%\"\n",
       "            height=\"500px\"\n",
       "            src=\"maps/geojson-overlay.html\"\n",
       "            frameborder=\"0\"\n",
       "            allowfullscreen\n",
       "        ></iframe>\n",
       "        "
      ],
      "text/plain": [
       "<IPython.lib.display.IFrame at 0x2e4052aa708>"
      ]
     },
     "execution_count": 8,
     "metadata": {},
     "output_type": "execute_result"
    }
   ],
   "source": [
    "# create basemap, centred on Auckland\n",
    "m = folium.Map(\n",
    "    location=[-36.848461, 174.763336],\n",
    "    tiles='cartodbpositron',\n",
    "    zoom_start=12\n",
    ")\n",
    "\n",
    "# add ward polygons to map\n",
    "folium.GeoJson(\n",
    "    'data/processed/wards.geojson',\n",
    "    name='wards'\n",
    ").add_to(m)\n",
    "\n",
    "# allow this layer to be turned on and off\n",
    "folium.LayerControl().add_to(m)\n",
    "\n",
    "embed_map(m, width='75%', height='500px', filename='geojson-overlay.html')"
   ]
  },
  {
   "cell_type": "markdown",
   "metadata": {},
   "source": [
    "## 3. Choropleth maps\n",
    "  - [Folium Quickstart guide](https://python-visualization.github.io/folium/quickstart.html#Choropleth-maps)\n",
    "  \n",
    "Choropleth maps use colour to show attribute values of polygons. The code below shows the average sum insured of each ward. The colour palette and opacity can be customised using the `fill_color` and `fill_opacity` arguments."
   ]
  },
  {
   "cell_type": "code",
   "execution_count": 9,
   "metadata": {},
   "outputs": [
    {
     "data": {
      "text/html": [
       "<div>\n",
       "<style scoped>\n",
       "    .dataframe tbody tr th:only-of-type {\n",
       "        vertical-align: middle;\n",
       "    }\n",
       "\n",
       "    .dataframe tbody tr th {\n",
       "        vertical-align: top;\n",
       "    }\n",
       "\n",
       "    .dataframe thead th {\n",
       "        text-align: right;\n",
       "    }\n",
       "</style>\n",
       "<table border=\"1\" class=\"dataframe\">\n",
       "  <thead>\n",
       "    <tr style=\"text-align: right;\">\n",
       "      <th></th>\n",
       "      <th>Ward_name</th>\n",
       "      <th>n_policies</th>\n",
       "      <th>avg_age</th>\n",
       "      <th>avg_n_claims</th>\n",
       "      <th>avg_sum_insured</th>\n",
       "      <th>avg_vehicle_year</th>\n",
       "      <th>Ward_no</th>\n",
       "      <th>geometry</th>\n",
       "    </tr>\n",
       "  </thead>\n",
       "  <tbody>\n",
       "    <tr>\n",
       "      <th>0</th>\n",
       "      <td>Ahuriri Ward</td>\n",
       "      <td>4.0</td>\n",
       "      <td>34.250000</td>\n",
       "      <td>0.000000</td>\n",
       "      <td>32939.500000</td>\n",
       "      <td>2012.500000</td>\n",
       "      <td>06801</td>\n",
       "      <td>MULTIPOLYGON (((169.64249 -44.58830, 169.64253...</td>\n",
       "    </tr>\n",
       "    <tr>\n",
       "      <th>1</th>\n",
       "      <td>Ahuriri Ward</td>\n",
       "      <td>4.0</td>\n",
       "      <td>34.250000</td>\n",
       "      <td>0.000000</td>\n",
       "      <td>32939.500000</td>\n",
       "      <td>2012.500000</td>\n",
       "      <td>03101</td>\n",
       "      <td>MULTIPOLYGON (((176.84970 -39.42650, 176.84966...</td>\n",
       "    </tr>\n",
       "    <tr>\n",
       "      <th>2</th>\n",
       "      <td>Albany Ward</td>\n",
       "      <td>233.0</td>\n",
       "      <td>35.021459</td>\n",
       "      <td>0.330472</td>\n",
       "      <td>32538.197425</td>\n",
       "      <td>2014.094421</td>\n",
       "      <td>07602</td>\n",
       "      <td>MULTIPOLYGON (((174.73881 -36.62435, 174.73881...</td>\n",
       "    </tr>\n",
       "  </tbody>\n",
       "</table>\n",
       "</div>"
      ],
      "text/plain": [
       "      Ward_name  n_policies    avg_age  avg_n_claims  avg_sum_insured  \\\n",
       "0  Ahuriri Ward         4.0  34.250000      0.000000     32939.500000   \n",
       "1  Ahuriri Ward         4.0  34.250000      0.000000     32939.500000   \n",
       "2   Albany Ward       233.0  35.021459      0.330472     32538.197425   \n",
       "\n",
       "   avg_vehicle_year Ward_no                                           geometry  \n",
       "0       2012.500000   06801  MULTIPOLYGON (((169.64249 -44.58830, 169.64253...  \n",
       "1       2012.500000   03101  MULTIPOLYGON (((176.84970 -39.42650, 176.84966...  \n",
       "2       2014.094421   07602  MULTIPOLYGON (((174.73881 -36.62435, 174.73881...  "
      ]
     },
     "execution_count": 9,
     "metadata": {},
     "output_type": "execute_result"
    }
   ],
   "source": [
    "# load metadata\n",
    "df = gpd.read_file('data/processed/wards.geojson')\n",
    "\n",
    "df.head(3)"
   ]
  },
  {
   "cell_type": "code",
   "execution_count": 10,
   "metadata": {},
   "outputs": [
    {
     "data": {
      "text/html": [
       "\n",
       "        <iframe\n",
       "            width=\"75%\"\n",
       "            height=\"500px\"\n",
       "            src=\"maps/choropleth.html\"\n",
       "            frameborder=\"0\"\n",
       "            allowfullscreen\n",
       "        ></iframe>\n",
       "        "
      ],
      "text/plain": [
       "<IPython.lib.display.IFrame at 0x2e40d50f6c8>"
      ]
     },
     "execution_count": 10,
     "metadata": {},
     "output_type": "execute_result"
    }
   ],
   "source": [
    "bins = [0, 20000, 40000, 60000, 80000, 100000, 120000]\n",
    "\n",
    "m = folium.Map(\n",
    "    location=[-36.848461, 174.763336],\n",
    "    zoom_start=9\n",
    ")\n",
    "\n",
    "# aditional tile layers\n",
    "folium.TileLayer(tiles='CartoDB Positron', name=\"CartoDB\").add_to(m)\n",
    "folium.TileLayer(tiles='Stamen Toner', name=\"Stamen Toner\").add_to(m)\n",
    "folium.TileLayer(tiles='Stamen Terrain', name=\"Stamen Terrain\").add_to(m)\n",
    "\n",
    "# add sum insured layer\n",
    "folium.Choropleth(\n",
    "    geo_data=df,\n",
    "    name='Sum Insured',\n",
    "    data=df,\n",
    "    columns=['Ward_name', 'avg_sum_insured'],\n",
    "    key_on='feature.properties.Ward_name',\n",
    "    bins=bins,\n",
    "    fill_color='YlGn',\n",
    "    fill_opacity=0.7,\n",
    "    line_opacity=0.2,\n",
    "    legend_name='Average Sum Insured ($)'\n",
    ").add_to(m)\n",
    "\n",
    "\n",
    "folium.LayerControl().add_to(m)\n",
    "\n",
    "embed_map(m, width='75%', height='500px', filename='choropleth.html')"
   ]
  },
  {
   "cell_type": "markdown",
   "metadata": {},
   "source": [
    "# 4. Multi-layer map\n",
    "  - [Folium FeatureGroup example](https://nbviewer.jupyter.org/github/python-visualization/folium/blob/master/examples/FeatureGroup.ipynb)\n",
    "  \n",
    "It is also possible to have multiple layers on a map. These layers can then be toggled on and off using the layer control. When using multiple choropleth layers, [this notebook](https://nbviewer.jupyter.org/gist/BibMartin/f153aa957ddc5fadc64929abdee9ff2e) should provide a good example for biding colour bars to layers.\n",
    "\n",
    "The code below creates a map which contains both a MarkerCluster and a Choropleth layer."
   ]
  },
  {
   "cell_type": "code",
   "execution_count": 11,
   "metadata": {},
   "outputs": [
    {
     "data": {
      "text/html": [
       "\n",
       "        <iframe\n",
       "            width=\"75%\"\n",
       "            height=\"500px\"\n",
       "            src=\"maps/multi-layer.html\"\n",
       "            frameborder=\"0\"\n",
       "            allowfullscreen\n",
       "        ></iframe>\n",
       "        "
      ],
      "text/plain": [
       "<IPython.lib.display.IFrame at 0x2e414c2c048>"
      ]
     },
     "execution_count": 11,
     "metadata": {},
     "output_type": "execute_result"
    }
   ],
   "source": [
    "# map\n",
    "m = folium.Map(\n",
    "    location=[-36.848461, 174.763336],\n",
    "    tiles='cartodbpositron',\n",
    "    zoom_start=10\n",
    ")\n",
    "\n",
    "# policies feature group\n",
    "fg1 = folium.FeatureGroup(name='Policies')\n",
    "\n",
    "# cluster marker\n",
    "marker_cluster = MarkerCluster().add_to(fg1)\n",
    "\n",
    "# add all policies to cluster marker\n",
    "for idx, row in policies.iterrows():\n",
    "    # popup text\n",
    "    popup='Years Licensed:<br>' + str(row['YearsLicensed']) + '<br>Sum Insured:<br>' + str(row['Vehicle Sum Insured'])\n",
    "    # add marker to cluster marker object\n",
    "    folium.Marker(\n",
    "        location=[row.geometry.y, row.geometry.x],\n",
    "        popup=popup,\n",
    "        tooltip=row.SampleNo\n",
    "    ).add_to(marker_cluster)\n",
    "    \n",
    "marker_cluster.add_to(fg1)\n",
    "fg1.add_to(m)\n",
    "\n",
    "# add sum insured layer\n",
    "folium.Choropleth(\n",
    "    geo_data=df,\n",
    "    name='Sum Insured',\n",
    "    data=df,\n",
    "    columns=['Ward_name', 'avg_sum_insured'],\n",
    "    key_on='feature.properties.Ward_name',\n",
    "    bins=bins,\n",
    "    fill_color='YlGn',\n",
    "    fill_opacity=0.7,\n",
    "    line_opacity=0.2,\n",
    "    legend_name='Average Sum Insured ($)'\n",
    ").add_to(m)\n",
    "    \n",
    "# allow this layer to be turned on and off\n",
    "folium.LayerControl().add_to(m)\n",
    "\n",
    "embed_map(m, width='75%', height='500px', filename='multi-layer.html')"
   ]
  }
 ],
 "metadata": {
  "kernelspec": {
   "display_name": "Python 3",
   "language": "python",
   "name": "python3"
  },
  "language_info": {
   "codemirror_mode": {
    "name": "ipython",
    "version": 3
   },
   "file_extension": ".py",
   "mimetype": "text/x-python",
   "name": "python",
   "nbconvert_exporter": "python",
   "pygments_lexer": "ipython3",
   "version": "3.7.5"
  }
 },
 "nbformat": 4,
 "nbformat_minor": 4
}
